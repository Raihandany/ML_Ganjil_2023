{
  "nbformat": 4,
  "nbformat_minor": 0,
  "metadata": {
    "colab": {
      "provenance": []
    },
    "kernelspec": {
      "name": "python3",
      "display_name": "Python 3"
    },
    "language_info": {
      "name": "python"
    }
  },
  "cells": [
    {
      "cell_type": "markdown",
      "source": [
        "# Case Study - Handwritten Classification Using MNIST Data"
      ],
      "metadata": {
        "id": "j8DxEb__d-qh"
      }
    },
    {
      "cell_type": "markdown",
      "source": [
        "## General Description\n",
        "You are requested to perform classification using the Naive Bayes and SVM algorithms to recognize handwritten digits from the MNIST dataset."
      ],
      "metadata": {
        "id": "Gb84a8a3eptF"
      }
    },
    {
      "cell_type": "markdown",
      "source": [
        "## About MNIST Dataset\n",
        "\n",
        "The MNIST (Modified National Institute of Standards and Technology) dataset is a collection of grayscale images sized 28x28 pixels, containing handwritten digits ranging from 0 to 9. The dataset comprises a total of 70,000 handwritten images."
      ],
      "metadata": {
        "id": "KEx5J6i1euPr"
      }
    },
    {
      "cell_type": "markdown",
      "source": [
        "## Tasks\n",
        "\n",
        "1. Ensure the number of data points for each digit label (0-9). Is there any data imbalance in the MNIST dataset being used? Explain your group's answer and provide evidence!\n",
        "\n",
        "2. Display the first 15 images from the MNIST dataset along with their labels. You can refer to Job Sheet 03 for guidance.\n",
        "\n",
        "3. Perform feature extraction on the MNIST data. In this process, you are allowed to:\n",
        "   - Use the original pixel values of the images as features.\n",
        "   - Perform other feature extraction methods such as histograms, PCA, or others. You are allowed to explore this process.\n",
        "\n",
        "4. Create training and testing data using ratios of 70:30, 80:20, and 90:10.\n",
        "\n",
        "5. Conduct classification using the Naive Bayes and SVM algorithms.\n",
        "   - You are allowed to tune parameters.\n",
        "   - You are allowed to explore different types of kernels for SVM.\n",
        "\n",
        "6. Evaluate the models you have created on both the training and testing data.\n",
        "   - Use the *accuracy* metric to assess the accuracy on training and testing data.\n",
        "   - Utilize the *classification_report* function to understand the model's overall performance.\n",
        "   - Use a confusion matrix to determine the accuracy of labeling.\n",
        "\n",
        "7. Display the testing data images along with their predicted labels. You can use Job Sheet 03 as a reference.\n",
        "\n",
        "8. What is the best model you obtained? What is its configuration? What level of accuracy did you achieve? Explain!\n",
        "\n",
        "Please note that this appears to be a set of instructions for a machine learning project using the MNIST dataset. You would need to follow these steps, perform the necessary coding and analysis, and then provide your findings and results."
      ],
      "metadata": {
        "id": "0G4hvAMGfa7T"
      }
    },
    {
      "cell_type": "markdown",
      "source": [
        "# Helper\n",
        "\n",
        "Here is the code snippet to help you download the MNIST dataset"
      ],
      "metadata": {
        "id": "aFXaRwkikbIk"
      }
    },
    {
      "cell_type": "code",
      "execution_count": null,
      "metadata": {
        "id": "Ne3-Z5-wcTRt",
        "colab": {
          "base_uri": "https://localhost:8080/"
        },
        "outputId": "4bdd217d-c89a-4578-a2b0-e9ef75758ad2"
      },
      "outputs": [
        {
          "output_type": "stream",
          "name": "stderr",
          "text": [
            "/usr/local/lib/python3.10/dist-packages/sklearn/datasets/_openml.py:968: FutureWarning: The default value of `parser` will change from `'liac-arff'` to `'auto'` in 1.4. You can set `parser='auto'` to silence this warning. Therefore, an `ImportError` will be raised from 1.4 if the dataset is dense and pandas is not installed. Note that the pandas parser may return different data types. See the Notes Section in fetch_openml's API doc for details.\n",
            "  warn(\n"
          ]
        }
      ],
      "source": [
        "# Download MNIST Dataset\n",
        "from sklearn.datasets import fetch_openml\n",
        "\n",
        "mnist = fetch_openml('mnist_784')"
      ]
    },
    {
      "cell_type": "code",
      "source": [
        "# Please read MNIST dataset description\n",
        "# It may help you to understand the dataset\n",
        "print(mnist.DESCR)"
      ],
      "metadata": {
        "id": "VFcYRExSk8wl",
        "colab": {
          "base_uri": "https://localhost:8080/"
        },
        "outputId": "4ed99aa7-3482-4142-eca4-0b7c1a23ee0e"
      },
      "execution_count": null,
      "outputs": [
        {
          "output_type": "stream",
          "name": "stdout",
          "text": [
            "**Author**: Yann LeCun, Corinna Cortes, Christopher J.C. Burges  \n",
            "**Source**: [MNIST Website](http://yann.lecun.com/exdb/mnist/) - Date unknown  \n",
            "**Please cite**:  \n",
            "\n",
            "The MNIST database of handwritten digits with 784 features, raw data available at: http://yann.lecun.com/exdb/mnist/. It can be split in a training set of the first 60,000 examples, and a test set of 10,000 examples  \n",
            "\n",
            "It is a subset of a larger set available from NIST. The digits have been size-normalized and centered in a fixed-size image. It is a good database for people who want to try learning techniques and pattern recognition methods on real-world data while spending minimal efforts on preprocessing and formatting. The original black and white (bilevel) images from NIST were size normalized to fit in a 20x20 pixel box while preserving their aspect ratio. The resulting images contain grey levels as a result of the anti-aliasing technique used by the normalization algorithm. the images were centered in a 28x28 image by computing the center of mass of the pixels, and translating the image so as to position this point at the center of the 28x28 field.  \n",
            "\n",
            "With some classification methods (particularly template-based methods, such as SVM and K-nearest neighbors), the error rate improves when the digits are centered by bounding box rather than center of mass. If you do this kind of pre-processing, you should report it in your publications. The MNIST database was constructed from NIST's NIST originally designated SD-3 as their training set and SD-1 as their test set. However, SD-3 is much cleaner and easier to recognize than SD-1. The reason for this can be found on the fact that SD-3 was collected among Census Bureau employees, while SD-1 was collected among high-school students. Drawing sensible conclusions from learning experiments requires that the result be independent of the choice of training set and test among the complete set of samples. Therefore it was necessary to build a new database by mixing NIST's datasets.  \n",
            "\n",
            "The MNIST training set is composed of 30,000 patterns from SD-3 and 30,000 patterns from SD-1. Our test set was composed of 5,000 patterns from SD-3 and 5,000 patterns from SD-1. The 60,000 pattern training set contained examples from approximately 250 writers. We made sure that the sets of writers of the training set and test set were disjoint. SD-1 contains 58,527 digit images written by 500 different writers. In contrast to SD-3, where blocks of data from each writer appeared in sequence, the data in SD-1 is scrambled. Writer identities for SD-1 is available and we used this information to unscramble the writers. We then split SD-1 in two: characters written by the first 250 writers went into our new training set. The remaining 250 writers were placed in our test set. Thus we had two sets with nearly 30,000 examples each. The new training set was completed with enough examples from SD-3, starting at pattern # 0, to make a full set of 60,000 training patterns. Similarly, the new test set was completed with SD-3 examples starting at pattern # 35,000 to make a full set with 60,000 test patterns. Only a subset of 10,000 test images (5,000 from SD-1 and 5,000 from SD-3) is available on this site. The full 60,000 sample training set is available.\n",
            "\n",
            "Downloaded from openml.org.\n"
          ]
        }
      ]
    },
    {
      "cell_type": "code",
      "source": [
        "# Inpsect dataset keys\n",
        "# It may help you to understand the dataset structure\n",
        "mnist.keys()"
      ],
      "metadata": {
        "id": "vw14DeY0lgVF",
        "colab": {
          "base_uri": "https://localhost:8080/"
        },
        "outputId": "5a6b0a7c-208a-47c1-e4bd-2b9989855e4d"
      },
      "execution_count": null,
      "outputs": [
        {
          "output_type": "execute_result",
          "data": {
            "text/plain": [
              "dict_keys(['data', 'target', 'frame', 'categories', 'feature_names', 'target_names', 'DESCR', 'details', 'url'])"
            ]
          },
          "metadata": {},
          "execution_count": 3
        }
      ]
    },
    {
      "cell_type": "code",
      "source": [
        "print(mnist.data)"
      ],
      "metadata": {
        "id": "I4SRLrS8mlNx",
        "colab": {
          "base_uri": "https://localhost:8080/"
        },
        "outputId": "19a93424-4087-4bef-edc3-72953575557b"
      },
      "execution_count": null,
      "outputs": [
        {
          "output_type": "stream",
          "name": "stdout",
          "text": [
            "       pixel1  pixel2  pixel3  pixel4  pixel5  pixel6  pixel7  pixel8  pixel9  \\\n",
            "0         0.0     0.0     0.0     0.0     0.0     0.0     0.0     0.0     0.0   \n",
            "1         0.0     0.0     0.0     0.0     0.0     0.0     0.0     0.0     0.0   \n",
            "2         0.0     0.0     0.0     0.0     0.0     0.0     0.0     0.0     0.0   \n",
            "3         0.0     0.0     0.0     0.0     0.0     0.0     0.0     0.0     0.0   \n",
            "4         0.0     0.0     0.0     0.0     0.0     0.0     0.0     0.0     0.0   \n",
            "...       ...     ...     ...     ...     ...     ...     ...     ...     ...   \n",
            "69995     0.0     0.0     0.0     0.0     0.0     0.0     0.0     0.0     0.0   \n",
            "69996     0.0     0.0     0.0     0.0     0.0     0.0     0.0     0.0     0.0   \n",
            "69997     0.0     0.0     0.0     0.0     0.0     0.0     0.0     0.0     0.0   \n",
            "69998     0.0     0.0     0.0     0.0     0.0     0.0     0.0     0.0     0.0   \n",
            "69999     0.0     0.0     0.0     0.0     0.0     0.0     0.0     0.0     0.0   \n",
            "\n",
            "       pixel10  ...  pixel775  pixel776  pixel777  pixel778  pixel779  \\\n",
            "0          0.0  ...       0.0       0.0       0.0       0.0       0.0   \n",
            "1          0.0  ...       0.0       0.0       0.0       0.0       0.0   \n",
            "2          0.0  ...       0.0       0.0       0.0       0.0       0.0   \n",
            "3          0.0  ...       0.0       0.0       0.0       0.0       0.0   \n",
            "4          0.0  ...       0.0       0.0       0.0       0.0       0.0   \n",
            "...        ...  ...       ...       ...       ...       ...       ...   \n",
            "69995      0.0  ...       0.0       0.0       0.0       0.0       0.0   \n",
            "69996      0.0  ...       0.0       0.0       0.0       0.0       0.0   \n",
            "69997      0.0  ...       0.0       0.0       0.0       0.0       0.0   \n",
            "69998      0.0  ...       0.0       0.0       0.0       0.0       0.0   \n",
            "69999      0.0  ...       0.0       0.0       0.0       0.0       0.0   \n",
            "\n",
            "       pixel780  pixel781  pixel782  pixel783  pixel784  \n",
            "0           0.0       0.0       0.0       0.0       0.0  \n",
            "1           0.0       0.0       0.0       0.0       0.0  \n",
            "2           0.0       0.0       0.0       0.0       0.0  \n",
            "3           0.0       0.0       0.0       0.0       0.0  \n",
            "4           0.0       0.0       0.0       0.0       0.0  \n",
            "...         ...       ...       ...       ...       ...  \n",
            "69995       0.0       0.0       0.0       0.0       0.0  \n",
            "69996       0.0       0.0       0.0       0.0       0.0  \n",
            "69997       0.0       0.0       0.0       0.0       0.0  \n",
            "69998       0.0       0.0       0.0       0.0       0.0  \n",
            "69999       0.0       0.0       0.0       0.0       0.0  \n",
            "\n",
            "[70000 rows x 784 columns]\n"
          ]
        }
      ]
    }
  ]
}